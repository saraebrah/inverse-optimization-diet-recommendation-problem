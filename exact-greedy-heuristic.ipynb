{
 "cells": [
  {
   "cell_type": "markdown",
   "metadata": {},
   "source": [
    "### Given the data points (observed decisions), inferred constraints and the goodness-of-fit metric using exact or greedy heuristics are inferred."
   ]
  },
  {
   "cell_type": "code",
   "execution_count": 2,
   "metadata": {},
   "outputs": [],
   "source": [
    "import pandas as pd\n",
    "import numpy as np\n",
    "from scipy.spatial import ConvexHull\n",
    "from numpy import linalg as LA\n",
    "import itertools\n",
    "import sys\n",
    "import time"
   ]
  },
  {
   "cell_type": "code",
   "execution_count": 3,
   "metadata": {},
   "outputs": [],
   "source": [
    "data = pd.read_csv(r'Data/1Final_530_Female_1959_server.csv')\n",
    "# data = data.drop(data.index[30:])\n",
    "\n",
    "X = data"
   ]
  },
  {
   "cell_type": "code",
   "execution_count": 4,
   "metadata": {},
   "outputs": [],
   "source": [
    "class IO:\n",
    "    def __init__(self, X, num_Unknown_cons):\n",
    "        self.num_points = X.shape[0]\n",
    "        self.num_vars = X.shape[1]\n",
    "        self.num_Unknown_cons = num_Unknown_cons\n",
    "        self.X = X\n",
    "\n",
    "    def convexhull(self):\n",
    "        points = self.X.to_numpy() # CONVERTING THE DATAFRAME TO ARRAY\n",
    "        hull = ConvexHull(points)  # FINDING THE CONVEX HULL OF DATA POINTS\n",
    "        eq = hull.equations   # GETTING THE EQUATIONS FORMING THE CONVEX HULL\n",
    "        hul = pd.DataFrame(eq, columns= self.X.columns.values.tolist() + [\"RHS\"])  # CREATING A DATAFRAME WITH THE COEFFICIENTS OF CONSTRAINTS\n",
    "        num_hul_eq = hul.shape[0]   # GETTING THE NUMBER OF EQUATIONS FORMING THE CONVEX HULL\n",
    "        hul.iloc[0:num_hul_eq, 0:self.num_vars] *= -1  # MAKING AX = b INSTEAD OF AX + b = 0\n",
    "        hul.iloc[0:num_hul_eq, self.num_vars] = np.round(hul.iloc[0:num_hul_eq, self.num_vars], decimals=5)  # ROUNDING TO 5 DECIMALS\n",
    "        output = {\"hul\":hul, \"num_hul_eq\": num_hul_eq}\n",
    "        return output\n",
    "    \n",
    "    def sumdistance(self, output):\n",
    "        gre_distance = np.zeros([self.num_points,output[\"num_hul_eq\"]])\n",
    "        for k in range(self.num_points):\n",
    "            p = self.X.iloc[k].to_numpy()   # p: EACH POINT\n",
    "            for i in range(output[\"num_hul_eq\"]):  # i: EACH EQUATION (POTENTIAL INFERRED CONSTRAINT)\n",
    "                a = output[\"hul\"].iloc[i,:self.num_vars].to_numpy()\n",
    "                b = output[\"hul\"].iloc[i,self.num_vars]\n",
    "                gre_distance[k,i] = abs(np.dot(p,a) - b)   /  LA.norm( a ) # EUCLIDEAN DISTANCE OF POINT p FROM HYPERPLANE i\n",
    "        gre_distance = np.round(gre_distance, decimals=10) # ROUNDING TO 10 DECIMALS\n",
    "        sum_each_i = gre_distance.sum(axis=0)  # FOR EACH i, GETTING THE SUM DISTANCE OF ALL POINTS FROM IT\n",
    "        return sum_each_i\n",
    "\n",
    "    def gre_infer(self, sum_each_i,output):\n",
    "        sorted_indices = np.argsort(sum_each_i)  # SORTING THE EQUATIONS (POTENTIAL INFERRED CONSTRAINT) BASED ON THE SUM DISTANCES\n",
    "        smallest_indices = sorted_indices[:self.num_Unknown_cons]  # CHOOSING THE INDECIS OF num_Unknown_cons (exp. 2) HYPERPLANES WITH THE MINIMUM SUM DISTANCES\n",
    "        inferred_cons = [output[\"hul\"].iloc[ind].to_numpy() for ind in smallest_indices] # FINDING THE INFERRED HYPERPLANES BASED ON THEIR INDECIS\n",
    "        return inferred_cons\n",
    "\n",
    "\n",
    "    def combinations(self, output):\n",
    "        index_of_hul = [i for i in range(output[\"num_hul_eq\"])] # \n",
    "        comb = list(itertools.combinations(index_of_hul, self.num_Unknown_cons)) # FINDING POSSIBLE COMBINATIONS OF num_Unknown_cons CONSTRAINTS OUT OF TOTAL NUMBER OF EQUATIONS FORMING THE CONVEX HULL (index_of_hul)\n",
    "        return comb\n",
    "    \n",
    "    def IO_metrics(self, output, comb):\n",
    "        metric_comb = [] #len(comb)\n",
    "        for c in comb: # c: EACH COMBINATION (POTENTIAL SET OF INFERRED CONSTRAINT(S))\n",
    "            distance = np.zeros([self.num_points,self.num_Unknown_cons])\n",
    "            co = 0  # co : COUNTER FOR THE EQUATION IN EACH COMBINATION\n",
    "            for i in c: # i: INDEX OF EACH EQUATION IN COMBINATION c\n",
    "                a = output[\"hul\"].iloc[i,:self.num_vars].to_numpy()\n",
    "                b = output[\"hul\"].iloc[i,self.num_vars]\n",
    "                for k in range(self.num_points):\n",
    "                    p = self.X.iloc[k].to_numpy()  # p: EACH POINT\n",
    "                    distance[k,co] = abs(np.dot(p,a) - b)   /  LA.norm( a ) # EUCLIDEAN DISTANCE OF POINT p FROM HYPERPLANE i IN COMBINATION c\n",
    "                co +=1\n",
    "            min_distance = np.amin(distance, axis=1)  # FINDING THE MIN DISTANCE OF POINT p FROM HYPERPLANES IN COMBINATION c\n",
    "            metric_comb.append((min_distance.sum()) / self.num_points ) # FINDING THE VALUE OF MERIC FOR COMBINATION c\n",
    "        return metric_comb\n",
    "          \n",
    "    def infer(self, output, comb, metric_comb):      \n",
    "        sorted_indices = np.argsort(metric_comb) # SORTING THE COMBINATION (POTENTIAL SET OF INFERRED CONSTRAINT(S)) BASED ON THE VALUE OF METRIC\n",
    "        smallest_indices = sorted_indices[:1]  # CHOOSING THE COMBINATION WITH THE MINIMUM VALUE OF METRIC\n",
    "        inferred_cons = [output[\"hul\"].iloc[ind].to_numpy() for ind in comb[smallest_indices[0]]]  # FINDING THE INFERRED HYPERPLANES BASED ON THE INDEX OF THE OPTIMAL COMBIMATION\n",
    "        metric = min(metric_comb) # GETTING THE MINIMUM VALUE OF METRIC\n",
    "        final = {\"metric\":metric, \"inferred_cons\": inferred_cons}\n",
    "        return final"
   ]
  },
  {
   "cell_type": "markdown",
   "metadata": {},
   "source": [
    "#### Run the following cell to solve the model using the EXACT heuristic method."
   ]
  },
  {
   "cell_type": "code",
   "execution_count": null,
   "metadata": {},
   "outputs": [],
   "source": [
    "# # Use the following four lines if arguments were passed to the script as the number of inferred constraints. \n",
    "# if len(sys.argv)>1:  \n",
    "#     num_Unknown_cons = int(sys.argv[1]) \n",
    "# else:\n",
    "#     num_Unknown_cons = 1\n",
    "\n",
    "\n",
    "num_Unknown_cons = 2 # CHOOSE THE NUMBER OF INFERRED CONSTRAINTS    \n",
    "start_time = time.time()\n",
    "ob = IO(X,num_Unknown_cons)  # CREATE AN OBJECT FROM CLASS IO\n",
    "output = ob.convexhull()\n",
    "output = ob.convexhull()\n",
    "comb = ob.combinations(output)\n",
    "metric_comb = ob.IO_metrics(output, comb)\n",
    "final = ob.infer(output, comb, metric_comb)\n",
    "metric = final[\"metric\"]\n",
    "inferred_cons = final[\"inferred_cons\"]\n",
    "\n",
    "print(\"--- %s seconds ---\" % (time.time() - start_time))\n",
    "\n",
    "# OUTPUT\n",
    "print(\"num of hull eq: \", output['num_hul_eq'])\n",
    "print(\"num of combinations: \", len(comb))\n",
    "print(\"(j,k,i): \", X.shape[1],X.shape[0], num_Unknown_cons)\n",
    "print(\"metric: \", metric)\n",
    "print(\"constraints: \", inferred_cons)"
   ]
  },
  {
   "cell_type": "markdown",
   "metadata": {},
   "source": [
    "#### Run the following cell to solve the model using the GREEDY heuristic method."
   ]
  },
  {
   "cell_type": "code",
   "execution_count": null,
   "metadata": {},
   "outputs": [],
   "source": [
    "# # Use the following four lines if arguments were passed to the script as the number of inferred constraints. \n",
    "# if len(sys.argv)>1:  \n",
    "#     num_Unknown_cons = int(sys.argv[1]) \n",
    "# else:\n",
    "#     num_Unknown_cons = 1\n",
    "\n",
    "\n",
    "num_Unknown_cons = 2 # CHOOSE THE NUMBER OF INFERRED CONSTRAINTS   start_time = time.time()\n",
    "ob = IO(X,num_Unknown_cons)\n",
    "output = ob.convexhull()\n",
    "sum_each_i = ob.sumdistance(output)\n",
    "inferred_cons = ob.gre_infer(sum_each_i,output)\n",
    "out = pd.DataFrame(inferred_cons, columns = ['Fruits', 'Vegetables', 'Grains','Protein','Dairy','RHS'])\n",
    "metric= ob.gre_IO_metrics(out)\n",
    "\n",
    "print(\"--- %s seconds ---\" % (time.time() - start_time))\n",
    "\n",
    "# OUTPUT\n",
    "print(\"num of hull eq: \", output['num_hul_eq'])\n",
    "print(\"(j,k,i): \", X.shape[1],X.shape[0], num_Unknown_cons)\n",
    "print(\"metric: \", metric)\n",
    "print(\"constraints: \", inferred_cons)"
   ]
  }
 ],
 "metadata": {
  "kernelspec": {
   "display_name": "Python 3",
   "language": "python",
   "name": "python3"
  },
  "language_info": {
   "codemirror_mode": {
    "name": "ipython",
    "version": 3
   },
   "file_extension": ".py",
   "mimetype": "text/x-python",
   "name": "python",
   "nbconvert_exporter": "python",
   "pygments_lexer": "ipython3",
   "version": "3.9.13"
  }
 },
 "nbformat": 4,
 "nbformat_minor": 2
}
