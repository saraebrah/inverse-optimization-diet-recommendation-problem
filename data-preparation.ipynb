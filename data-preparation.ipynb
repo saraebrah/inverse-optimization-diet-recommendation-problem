{
 "cells": [
  {
   "cell_type": "markdown",
   "metadata": {},
   "source": [
    "### Categorizing the original dataset into five food categories. "
   ]
  },
  {
   "cell_type": "code",
   "execution_count": 2,
   "metadata": {},
   "outputs": [],
   "source": [
    "import pandas as pd\n",
    "import re"
   ]
  },
  {
   "cell_type": "code",
   "execution_count": 16,
   "metadata": {},
   "outputs": [],
   "source": [
    "data = pd.read_csv(r'Data/NHANES Individual Food Consumption Day 1 (Reduced).csv')\n",
    "FoodCodes = pd.read_csv(r'Data/USDA Food Codes-edited.csv')\n",
    "demog = pd.read_csv(r'Data/NHANES Demographics.csv')\n",
    "\n",
    "data.rename(columns={\"DR1IFDCD\": \"Food code\"},inplace=True)\n",
    "FoodCodes.rename(columns={\"Main food description\": \"Description\"},inplace=True)\n",
    "data = data.drop(data.columns[3:], axis=1)\n",
    "demog = demog.drop(demog.columns[5:], axis=1)"
   ]
  },
  {
   "cell_type": "code",
   "execution_count": 10,
   "metadata": {},
   "outputs": [],
   "source": [
    "demog = demog[(demog['RIAGENDR'] == 2) & (demog['RIDAGEYR'] >=19)& (demog['RIDAGEYR'] <= 59)]"
   ]
  },
  {
   "cell_type": "code",
   "execution_count": 11,
   "metadata": {},
   "outputs": [],
   "source": [
    "FoodItems = [\"milk\",\"cream\",\"ice cream\",\"cheese\",\"sausage\",\"fish\",\"stew\",\"frozen meal\",\"beans\",\"nuts\",\"seeds\",\"bread\",\"biscuit\",\"cake\",\"crackers\",\"pasta\",\"cereal\",\"pizza\",\n",
    "             \"citrus fruit\",\"other fruit\",\"juice\",\"potato\",\"greens\",\"tomato\",\"vegetable\",\"salad dressing\", \"caffeinated drinks\", \"smoothie\", \"desserts\",\"soup\",\"meat\",\"chicken\",\n",
    "             \"egg meals\",\"fast food\",\"squash\",\"oil\" ]\n",
    "\n",
    "# pattern = '|'.join(FoodItems)\n",
    "pattern = '^(' + '|'.join(FoodItems) + ')'\n",
    "\n",
    "# Extract matching strings from text column and save in new column\n",
    "FoodCodes[\"MainFood\"] = FoodCodes.Description.str.extract(pattern, flags=re.IGNORECASE)\n",
    "\n",
    "# Lower case all items\n",
    "FoodCodes['MainFood'] = FoodCodes['MainFood'].str.lower()\n",
    "\n",
    "# Drop the NaN rows\n",
    "FoodCodes=FoodCodes.dropna(subset=['MainFood'])"
   ]
  },
  {
   "cell_type": "code",
   "execution_count": 12,
   "metadata": {},
   "outputs": [],
   "source": [
    "mergee = data.merge(FoodCodes, left_on='Food code',right_on='Food code').reindex(columns=['SEQN', 'Food code', 'DR1IGRMS', 'MainFood'])\n",
    "mergeee = mergee.merge(demog, left_on='SEQN',right_on='SEQN').reindex(columns=['SEQN', 'Food code', 'DR1IGRMS', 'MainFood'])"
   ]
  },
  {
   "cell_type": "code",
   "execution_count": 13,
   "metadata": {},
   "outputs": [],
   "source": [
    "counts = mergeee.groupby([\"SEQN\", \"MainFood\"]).count()\n",
    "counts.rename(columns={'DR1IGRMS': 'count'},inplace=True)\n",
    "counts.drop(columns=data.columns, errors='ignore',inplace=True)\n",
    "counts = counts.unstack(level=1)\n",
    "# counts = counts.drop(counts.index[20:], axis=0)\n",
    "counts.fillna(0,inplace=True)\n",
    "\n",
    "# # Drop the columns that are consumed by less that 3 people\n",
    "# counts_reduced = counts.dropna(thresh=3,axis=1)\n",
    "# counts_reduced.fillna(0,inplace=True)\n",
    "# counts_reduced"
   ]
  },
  {
   "cell_type": "code",
   "execution_count": 14,
   "metadata": {},
   "outputs": [
    {
     "data": {
      "text/html": [
       "<div>\n",
       "<style scoped>\n",
       "    .dataframe tbody tr th:only-of-type {\n",
       "        vertical-align: middle;\n",
       "    }\n",
       "\n",
       "    .dataframe tbody tr th {\n",
       "        vertical-align: top;\n",
       "    }\n",
       "\n",
       "    .dataframe thead th {\n",
       "        text-align: right;\n",
       "    }\n",
       "</style>\n",
       "<table border=\"1\" class=\"dataframe\">\n",
       "  <thead>\n",
       "    <tr style=\"text-align: right;\">\n",
       "      <th>MainFood</th>\n",
       "      <th>Fruits</th>\n",
       "      <th>Vegetables</th>\n",
       "      <th>Grains</th>\n",
       "      <th>Protein</th>\n",
       "      <th>Dairy</th>\n",
       "    </tr>\n",
       "    <tr>\n",
       "      <th>SEQN</th>\n",
       "      <th></th>\n",
       "      <th></th>\n",
       "      <th></th>\n",
       "      <th></th>\n",
       "      <th></th>\n",
       "    </tr>\n",
       "  </thead>\n",
       "  <tbody>\n",
       "    <tr>\n",
       "      <th>83735</th>\n",
       "      <td>0.0</td>\n",
       "      <td>0.0</td>\n",
       "      <td>1.0</td>\n",
       "      <td>1.0</td>\n",
       "      <td>0.0</td>\n",
       "    </tr>\n",
       "    <tr>\n",
       "      <th>83736</th>\n",
       "      <td>2.0</td>\n",
       "      <td>1.0</td>\n",
       "      <td>0.0</td>\n",
       "      <td>0.0</td>\n",
       "      <td>0.0</td>\n",
       "    </tr>\n",
       "    <tr>\n",
       "      <th>83742</th>\n",
       "      <td>4.0</td>\n",
       "      <td>1.0</td>\n",
       "      <td>1.0</td>\n",
       "      <td>2.0</td>\n",
       "      <td>1.0</td>\n",
       "    </tr>\n",
       "    <tr>\n",
       "      <th>83752</th>\n",
       "      <td>1.0</td>\n",
       "      <td>2.0</td>\n",
       "      <td>3.0</td>\n",
       "      <td>2.0</td>\n",
       "      <td>1.0</td>\n",
       "    </tr>\n",
       "    <tr>\n",
       "      <th>83757</th>\n",
       "      <td>1.0</td>\n",
       "      <td>4.0</td>\n",
       "      <td>2.0</td>\n",
       "      <td>3.0</td>\n",
       "      <td>1.0</td>\n",
       "    </tr>\n",
       "    <tr>\n",
       "      <th>...</th>\n",
       "      <td>...</td>\n",
       "      <td>...</td>\n",
       "      <td>...</td>\n",
       "      <td>...</td>\n",
       "      <td>...</td>\n",
       "    </tr>\n",
       "    <tr>\n",
       "      <th>93665</th>\n",
       "      <td>1.0</td>\n",
       "      <td>2.0</td>\n",
       "      <td>5.0</td>\n",
       "      <td>1.0</td>\n",
       "      <td>0.0</td>\n",
       "    </tr>\n",
       "    <tr>\n",
       "      <th>93676</th>\n",
       "      <td>1.0</td>\n",
       "      <td>3.0</td>\n",
       "      <td>2.0</td>\n",
       "      <td>1.0</td>\n",
       "      <td>1.0</td>\n",
       "    </tr>\n",
       "    <tr>\n",
       "      <th>93677</th>\n",
       "      <td>5.0</td>\n",
       "      <td>2.0</td>\n",
       "      <td>1.0</td>\n",
       "      <td>3.0</td>\n",
       "      <td>2.0</td>\n",
       "    </tr>\n",
       "    <tr>\n",
       "      <th>93682</th>\n",
       "      <td>1.0</td>\n",
       "      <td>0.0</td>\n",
       "      <td>1.0</td>\n",
       "      <td>1.0</td>\n",
       "      <td>0.0</td>\n",
       "    </tr>\n",
       "    <tr>\n",
       "      <th>93702</th>\n",
       "      <td>1.0</td>\n",
       "      <td>1.0</td>\n",
       "      <td>0.0</td>\n",
       "      <td>2.0</td>\n",
       "      <td>2.0</td>\n",
       "    </tr>\n",
       "  </tbody>\n",
       "</table>\n",
       "<p>1806 rows × 5 columns</p>\n",
       "</div>"
      ],
      "text/plain": [
       "MainFood  Fruits  Vegetables  Grains  Protein  Dairy\n",
       "SEQN                                                \n",
       "83735        0.0         0.0     1.0      1.0    0.0\n",
       "83736        2.0         1.0     0.0      0.0    0.0\n",
       "83742        4.0         1.0     1.0      2.0    1.0\n",
       "83752        1.0         2.0     3.0      2.0    1.0\n",
       "83757        1.0         4.0     2.0      3.0    1.0\n",
       "...          ...         ...     ...      ...    ...\n",
       "93665        1.0         2.0     5.0      1.0    0.0\n",
       "93676        1.0         3.0     2.0      1.0    1.0\n",
       "93677        5.0         2.0     1.0      3.0    2.0\n",
       "93682        1.0         0.0     1.0      1.0    0.0\n",
       "93702        1.0         1.0     0.0      2.0    2.0\n",
       "\n",
       "[1806 rows x 5 columns]"
      ]
     },
     "execution_count": 14,
     "metadata": {},
     "output_type": "execute_result"
    }
   ],
   "source": [
    "final = counts[\"count\"].copy()\n",
    "final['Fruits'] = final['citrus fruit'] + final[\"other fruit\"]  + final[\"smoothie\"] + final[\"juice\"]  \n",
    "final['Vegetables'] =  final[\"squash\"] + final[\"vegetable\"]  + final[\"greens\"] + final[\"potato\"]  + final[\"tomato\"]\n",
    "final['Grains'] = final[\"cake\"] + final[\"crackers\"]  + final[\"pasta\"] + final[\"cereal\"]  + final[\"bread\"] + final[\"biscuit\"]\n",
    "final['Protein'] = final[\"fish\"] + final[\"egg meals\"]  + final[\"sausage\"] + final[\"meat\"]  + final[\"chicken\"] + final[\"stew\"] + final[\"beans\"]  + final[\"nuts\"] + final[\"seeds\"]\n",
    "final['Dairy'] = final[\"milk\"] + final[\"cheese\"]\n",
    "final = final.drop(final.columns[0:35], axis=1)\n",
    "final"
   ]
  },
  {
   "cell_type": "markdown",
   "metadata": {},
   "source": [
    "### For deriving the known constraints, the above dataset is considered as input."
   ]
  },
  {
   "cell_type": "code",
   "execution_count": 198,
   "metadata": {},
   "outputs": [],
   "source": [
    "# final.to_csv(r'test_F1959.csv', index=True)"
   ]
  }
 ],
 "metadata": {
  "kernelspec": {
   "display_name": "Python 3",
   "language": "python",
   "name": "python3"
  },
  "language_info": {
   "codemirror_mode": {
    "name": "ipython",
    "version": 3
   },
   "file_extension": ".py",
   "mimetype": "text/x-python",
   "name": "python",
   "nbconvert_exporter": "python",
   "pygments_lexer": "ipython3",
   "version": "3.9.13"
  },
  "orig_nbformat": 4
 },
 "nbformat": 4,
 "nbformat_minor": 2
}
