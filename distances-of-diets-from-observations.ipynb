{
 "cells": [
  {
   "cell_type": "markdown",
   "metadata": {},
   "source": [
    "# Distances of observations from “w/o IO” and “IO” recommended diets"
   ]
  },
  {
   "cell_type": "code",
   "execution_count": 2,
   "metadata": {},
   "outputs": [],
   "source": [
    "import pandas as pd\n",
    "import numpy as np"
   ]
  },
  {
   "cell_type": "code",
   "execution_count": 3,
   "metadata": {},
   "outputs": [
    {
     "name": "stdout",
     "output_type": "stream",
     "text": [
      "74.66225599999999\n",
      "24.379879999999996\n"
     ]
    }
   ],
   "source": [
    "# observations(data points)\n",
    "Final_530 = pd.read_csv(r'Data/1Final_530_Female_1959_server.csv')\n",
    "\n",
    "# “w/o IO” and “IO” recommended diets\n",
    "wo = np.array([5.55731, 65.9421, 0, 0, 0])\n",
    "w = np.array([11.0617, 10.0624,  0,  5.5259, 0])\n",
    "\n",
    "# Calculate L1 norm distance\n",
    "WO_distances = np.abs(Final_530 - wo).sum(axis=1)\n",
    "W_distances = np.abs(Final_530 - w).sum(axis=1)\n",
    "print(WO_distances.mean())\n",
    "print(W_distances.mean())"
   ]
  }
 ],
 "metadata": {
  "kernelspec": {
   "display_name": "Python 3",
   "language": "python",
   "name": "python3"
  },
  "language_info": {
   "codemirror_mode": {
    "name": "ipython",
    "version": 3
   },
   "file_extension": ".py",
   "mimetype": "text/x-python",
   "name": "python",
   "nbconvert_exporter": "python",
   "pygments_lexer": "ipython3",
   "version": "3.9.13"
  }
 },
 "nbformat": 4,
 "nbformat_minor": 2
}
